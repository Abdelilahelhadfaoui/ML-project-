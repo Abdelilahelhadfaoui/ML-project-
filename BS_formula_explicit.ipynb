{
  "nbformat": 4,
  "nbformat_minor": 0,
  "metadata": {
    "colab": {
      "name": "BS_formula_explicit.ipynb",
      "provenance": [],
      "collapsed_sections": [],
      "authorship_tag": "ABX9TyNhdj8OLJe/+xe7AcCX6XKg",
      "include_colab_link": true
    },
    "kernelspec": {
      "name": "python3",
      "display_name": "Python 3"
    },
    "language_info": {
      "name": "python"
    }
  },
  "cells": [
    {
      "cell_type": "markdown",
      "metadata": {
        "id": "view-in-github",
        "colab_type": "text"
      },
      "source": [
        "<a href=\"https://colab.research.google.com/github/Abdelilahelhadfaoui/ML-project-/blob/master/BS_formula_explicit.ipynb\" target=\"_parent\"><img src=\"https://colab.research.google.com/assets/colab-badge.svg\" alt=\"Open In Colab\"/></a>"
      ]
    },
    {
      "cell_type": "code",
      "metadata": {
        "id": "gy4TXX2skLUL"
      },
      "source": [
        "import numpy as np\n",
        "import math\n",
        "import random\n",
        "import scipy as sp\n",
        "from scipy.stats import norm\n",
        "import matplotlib.pyplot as plt\n",
        "import pandas as pd\n",
        "%matplotlib inline\n",
        "import seaborn as sns\n",
        "\n",
        "def d1(S0,r,T,sigma,K):\n",
        "  return ((np.log(S0/K)+(r+sigma*sigma/2)*T)/(sigma*np.sqrt(T)))\n",
        "\n",
        "def d2(S0,r,T,sigma, K):\n",
        "  return ((np.log(S0/K)+(r-sigma*sigma/2)*T)/(sigma*np.sqrt(T)))\n",
        "\n",
        "def call(S0,r,T,sigma,K):\n",
        "  d11 = d1(S0,r,T,sigma, K)\n",
        "  d22 = d2(S0,r,T,sigma, K)\n",
        "  return (S0*norm.cdf(d11) - K*np.exp(-r*T)*norm.cdf(d22))\n",
        "\n",
        "def put(S0,r,T,sigma,K):\n",
        "  d11 = d1(S0,r,T,sigma, K)\n",
        "  d22 = d2(S0,r,T,sigma, K)\n",
        "  return (-S0*norm.cdf(-d11) + K*np.exp(-r*T)*norm.cdf(-d22))\n",
        "\n"
      ],
      "execution_count": 3,
      "outputs": []
    },
    {
      "cell_type": "code",
      "metadata": {
        "colab": {
          "base_uri": "https://localhost:8080/"
        },
        "id": "reu8H7NYloGs",
        "outputId": "00f8b466-760b-4a5b-ffee-40d74d6ae798"
      },
      "source": [
        "S0 = 100\n",
        "r = 0\n",
        "T = 10 # maturité \n",
        "sigma = 0.2\n",
        "K = 100\n",
        "\n",
        "print(call(S0,r,T,sigma,K))\n"
      ],
      "execution_count": 9,
      "outputs": [
        {
          "output_type": "stream",
          "text": [
            "99.0\n"
          ],
          "name": "stdout"
        }
      ]
    }
  ]
}